{
 "cells": [
  {
   "cell_type": "markdown",
   "id": "d958da00-9df1-442c-ae6e-beee2452cec0",
   "metadata": {},
   "source": [
    "An activation function is a mathematical function that determines the output of a neuron in a neural network. It is a key component of neural networks that allows them to learn and recognize complex patterns in data. \n",
    "How it works:\n",
    "--> An activation func transforms the input data into an output value.\n",
    "--> The output value is then passed on to the next layer of the neural network."
   ]
  },
  {
   "cell_type": "markdown",
   "id": "ce0ae8eb-6590-48aa-bc41-1615e697330d",
   "metadata": {},
   "source": [
    "Implementation of activation functions in python"
   ]
  },
  {
   "cell_type": "markdown",
   "id": "415a6206-92fc-43a7-bf28-eab8b1528d7d",
   "metadata": {},
   "source": [
    "If you are using step func as activation func, then there will be only two inputs 1 or 0. So it will be difficult to decide the final class."
   ]
  },
  {
   "cell_type": "markdown",
   "id": "6c2e749e-0aa2-445e-9204-b2c7093cf13c",
   "metadata": {},
   "source": [
    "Sigmoid"
   ]
  },
  {
   "cell_type": "code",
   "execution_count": 2,
   "id": "4801e593-1aa3-4945-8065-56211c2c2fb4",
   "metadata": {},
   "outputs": [],
   "source": [
    "import math\n",
    "def sigmoid(x):\n",
    "    return 1/(1+math.exp(-x))"
   ]
  },
  {
   "cell_type": "code",
   "execution_count": 3,
   "id": "667b6d3c-7c29-44bc-a980-d2156292f36e",
   "metadata": {},
   "outputs": [
    {
     "data": {
      "text/plain": [
       "1.0"
      ]
     },
     "execution_count": 3,
     "metadata": {},
     "output_type": "execute_result"
    }
   ],
   "source": [
    "sigmoid(105)"
   ]
  },
  {
   "cell_type": "code",
   "execution_count": 4,
   "id": "d3785edc-3ebc-4b34-97b8-23d056abb363",
   "metadata": {},
   "outputs": [
    {
     "data": {
      "text/plain": [
       "1.0"
      ]
     },
     "execution_count": 4,
     "metadata": {},
     "output_type": "execute_result"
    }
   ],
   "source": [
    "sigmoid(100)"
   ]
  },
  {
   "cell_type": "code",
   "execution_count": 6,
   "id": "23ed609c-7a82-4bf6-ae95-2f9eb2eed669",
   "metadata": {},
   "outputs": [
    {
     "data": {
      "text/plain": [
       "0.7310585786300049"
      ]
     },
     "execution_count": 6,
     "metadata": {},
     "output_type": "execute_result"
    }
   ],
   "source": [
    "sigmoid(1)"
   ]
  },
  {
   "cell_type": "code",
   "execution_count": 7,
   "id": "add0a250-f7ba-4852-8fbc-76efbb168e2c",
   "metadata": {},
   "outputs": [
    {
     "data": {
      "text/plain": [
       "4.780892883885469e-25"
      ]
     },
     "execution_count": 7,
     "metadata": {},
     "output_type": "execute_result"
    }
   ],
   "source": [
    "sigmoid(-56)"
   ]
  },
  {
   "cell_type": "code",
   "execution_count": 8,
   "id": "796b2efc-67d5-4d4e-99a4-ef80475756e5",
   "metadata": {},
   "outputs": [
    {
     "data": {
      "text/plain": [
       "0.6224593312018546"
      ]
     },
     "execution_count": 8,
     "metadata": {},
     "output_type": "execute_result"
    }
   ],
   "source": [
    "sigmoid(0.5)"
   ]
  },
  {
   "cell_type": "markdown",
   "id": "8f8ed065-e9a3-46b2-99f9-4633ec91b1b3",
   "metadata": {},
   "source": [
    "tanh\n",
    "(range -1 to +1)"
   ]
  },
  {
   "cell_type": "code",
   "execution_count": 9,
   "id": "69cac2f1-f33f-44c8-a628-b1066d24fd43",
   "metadata": {},
   "outputs": [],
   "source": [
    "def tanh(x):\n",
    "    return(math.exp(x) - math.exp(-x)) / (math.exp(x)+math.exp(-x))"
   ]
  },
  {
   "cell_type": "markdown",
   "id": "c0d4cdce-2fe3-41b2-ab4a-18a271661b31",
   "metadata": {},
   "source": [
    "when the input x is very large such as 2000, math.exp(x) becomes extremely large, exceeding the limits of the float data type. This results in an Overflow error."
   ]
  },
  {
   "cell_type": "code",
   "execution_count": 11,
   "id": "f86823d4-b2f1-4dbe-96f7-1a211d234c97",
   "metadata": {},
   "outputs": [
    {
     "data": {
      "text/plain": [
       "1.0"
      ]
     },
     "execution_count": 11,
     "metadata": {},
     "output_type": "execute_result"
    }
   ],
   "source": [
    "tanh(200)"
   ]
  },
  {
   "cell_type": "code",
   "execution_count": 12,
   "id": "01b68bcb-cc48-491b-a98b-a8eb5e27ebcb",
   "metadata": {},
   "outputs": [
    {
     "data": {
      "text/plain": [
       "-1.0"
      ]
     },
     "execution_count": 12,
     "metadata": {},
     "output_type": "execute_result"
    }
   ],
   "source": [
    "tanh(-56)"
   ]
  },
  {
   "cell_type": "code",
   "execution_count": 13,
   "id": "e7f6242b-6664-4627-84c4-f41986564a3b",
   "metadata": {},
   "outputs": [
    {
     "data": {
      "text/plain": [
       "1.0"
      ]
     },
     "execution_count": 13,
     "metadata": {},
     "output_type": "execute_result"
    }
   ],
   "source": [
    "tanh(50)"
   ]
  },
  {
   "cell_type": "code",
   "execution_count": 14,
   "id": "6b977ad0-3f37-4b8b-8717-864bd2143109",
   "metadata": {},
   "outputs": [
    {
     "data": {
      "text/plain": [
       "0.7615941559557649"
      ]
     },
     "execution_count": 14,
     "metadata": {},
     "output_type": "execute_result"
    }
   ],
   "source": [
    "tanh(1)"
   ]
  },
  {
   "cell_type": "markdown",
   "id": "12064ba0-a8b4-4e00-9bd9-26d42cf03d43",
   "metadata": {},
   "source": [
    "sigmoid and tanh have vanishing gradient problem, which will lead training process very slow. So for hidden layers, ReLU is most popularly used func because it is computationally very effective."
   ]
  },
  {
   "cell_type": "markdown",
   "id": "fb81918f-8e5f-4874-be6f-2a7f4926fa32",
   "metadata": {},
   "source": [
    "ReLU"
   ]
  },
  {
   "cell_type": "code",
   "execution_count": 15,
   "id": "58ea6060-8690-4cca-9dee-9756876fba39",
   "metadata": {},
   "outputs": [],
   "source": [
    "def relu(x):\n",
    "    return max(0,x)"
   ]
  },
  {
   "cell_type": "code",
   "execution_count": 16,
   "id": "0f4515e0-beb0-4065-8b0f-a84c2d5b8f44",
   "metadata": {},
   "outputs": [
    {
     "data": {
      "text/plain": [
       "100"
      ]
     },
     "execution_count": 16,
     "metadata": {},
     "output_type": "execute_result"
    }
   ],
   "source": [
    "relu(100)"
   ]
  },
  {
   "cell_type": "code",
   "execution_count": 17,
   "id": "c7b0d582-5f39-4ff3-ab77-d143b5d22e97",
   "metadata": {},
   "outputs": [
    {
     "data": {
      "text/plain": [
       "0"
      ]
     },
     "execution_count": 17,
     "metadata": {},
     "output_type": "execute_result"
    }
   ],
   "source": [
    "relu(-100)"
   ]
  },
  {
   "cell_type": "code",
   "execution_count": 18,
   "id": "08f29a9a-8a7e-422d-b0c2-eeba87ea8913",
   "metadata": {},
   "outputs": [
    {
     "data": {
      "text/plain": [
       "2000"
      ]
     },
     "execution_count": 18,
     "metadata": {},
     "output_type": "execute_result"
    }
   ],
   "source": [
    "relu(2000)"
   ]
  },
  {
   "cell_type": "markdown",
   "id": "0a00eacf-8a7a-4127-b9cb-cce452fa88f6",
   "metadata": {},
   "source": [
    "Leaky ReLU"
   ]
  },
  {
   "cell_type": "code",
   "execution_count": 19,
   "id": "befeb3e6-32ba-45e7-aa89-434b039a626b",
   "metadata": {},
   "outputs": [],
   "source": [
    "def leaky_relu(x):\n",
    "    return max(0.1*x,x)"
   ]
  },
  {
   "cell_type": "code",
   "execution_count": 20,
   "id": "dd3a7953-5d3f-49db-8c5b-afe9633bb186",
   "metadata": {},
   "outputs": [
    {
     "data": {
      "text/plain": [
       "-10.0"
      ]
     },
     "execution_count": 20,
     "metadata": {},
     "output_type": "execute_result"
    }
   ],
   "source": [
    "leaky_relu(-100)"
   ]
  },
  {
   "cell_type": "code",
   "execution_count": 21,
   "id": "4ac0f481-f966-4649-a1f0-6d41e544c404",
   "metadata": {},
   "outputs": [
    {
     "data": {
      "text/plain": [
       "8"
      ]
     },
     "execution_count": 21,
     "metadata": {},
     "output_type": "execute_result"
    }
   ],
   "source": [
    "leaky_relu(8)"
   ]
  },
  {
   "cell_type": "code",
   "execution_count": null,
   "id": "c63d039b-9e70-4d51-ab13-a11f1f9c75dc",
   "metadata": {},
   "outputs": [],
   "source": []
  }
 ],
 "metadata": {
  "kernelspec": {
   "display_name": "Python [conda env:base] *",
   "language": "python",
   "name": "conda-base-py"
  },
  "language_info": {
   "codemirror_mode": {
    "name": "ipython",
    "version": 3
   },
   "file_extension": ".py",
   "mimetype": "text/x-python",
   "name": "python",
   "nbconvert_exporter": "python",
   "pygments_lexer": "ipython3",
   "version": "3.12.7"
  }
 },
 "nbformat": 4,
 "nbformat_minor": 5
}
